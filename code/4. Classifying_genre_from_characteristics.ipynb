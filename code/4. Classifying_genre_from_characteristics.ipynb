{
 "cells": [
  {
   "cell_type": "markdown",
   "id": "7d46d806-c501-46b9-94fb-eca4a7d85935",
   "metadata": {},
   "source": [
    "# Imports "
   ]
  },
  {
   "cell_type": "code",
   "execution_count": 12,
   "id": "bcd778ca-3328-4503-bda1-9fa3470ee6fe",
   "metadata": {},
   "outputs": [],
   "source": [
    "import pandas as pd \n",
    "import numpy as np\n",
    "import matplotlib.pyplot as plt\n",
    "import seaborn as sns\n",
    "from sklearn.preprocessing import StandardScaler\n",
    "from sklearn.ensemble import RandomForestClassifier\n",
    "from sklearn.model_selection import train_test_split\n",
    "from sklearn.metrics import classification_report\n",
    "from sklearn.model_selection import GridSearchCV"
   ]
  },
  {
   "cell_type": "code",
   "execution_count": 13,
   "id": "d06a920d-56f2-4264-a104-d8577a8d8152",
   "metadata": {},
   "outputs": [],
   "source": [
    "metadata = pd.read_csv('../data/processed_metadata.csv')"
   ]
  },
  {
   "cell_type": "markdown",
   "id": "f78febfd-43b7-4c0e-b776-7e72ff7356a9",
   "metadata": {},
   "source": [
    "# Modelling and Model Evaluations - classifying genres from characteristics"
   ]
  },
  {
   "cell_type": "code",
   "execution_count": 15,
   "id": "ceb929f1-b168-4ad3-b4da-33f89bf42e34",
   "metadata": {},
   "outputs": [
    {
     "name": "stdout",
     "output_type": "stream",
     "text": [
      "              precision    recall  f1-score   support\n",
      "\n",
      "       blues       0.40      0.29      0.34       921\n",
      "     country       0.43      0.57      0.49      1089\n",
      "     hip hop       0.59      0.40      0.48       181\n",
      "        jazz       0.50      0.38      0.43       769\n",
      "         pop       0.37      0.47      0.41      1408\n",
      "      reggae       0.50      0.42      0.46       500\n",
      "        rock       0.43      0.32      0.36       807\n",
      "\n",
      "    accuracy                           0.42      5675\n",
      "   macro avg       0.46      0.41      0.42      5675\n",
      "weighted avg       0.43      0.42      0.42      5675\n",
      "\n",
      "Best parameters: {'max_depth': 30, 'min_samples_split': 2, 'n_estimators': 200}\n",
      "              precision    recall  f1-score   support\n",
      "\n",
      "       blues       0.41      0.28      0.33       921\n",
      "     country       0.43      0.56      0.49      1089\n",
      "     hip hop       0.61      0.39      0.48       181\n",
      "        jazz       0.51      0.38      0.44       769\n",
      "         pop       0.36      0.49      0.42      1408\n",
      "      reggae       0.52      0.44      0.47       500\n",
      "        rock       0.43      0.32      0.37       807\n",
      "\n",
      "    accuracy                           0.42      5675\n",
      "   macro avg       0.47      0.41      0.43      5675\n",
      "weighted avg       0.43      0.42      0.42      5675\n",
      "\n"
     ]
    }
   ],
   "source": [
    "features = ['dating', 'violence', 'world/life', 'night/time', 'shake the audience', 'family/gospel',\n",
    "            'romantic', 'communication', 'obscene', 'music', 'movement/places', 'light/visual perceptions',\n",
    "            'family/spiritual', 'like/girls', 'sadness', 'feelings', 'danceability', 'loudness',\n",
    "            'acousticness', 'instrumentalness', 'valence', 'energy']\n",
    "\n",
    "X_features = metadata[features]\n",
    "y_genre = metadata['genre']\n",
    "X_train_feat, X_test_feat, y_train_genre, y_test_genre = train_test_split(X_features, y_genre, test_size=0.2, random_state=42, stratify=y_genre)\n",
    "\n",
    "scaler = StandardScaler()\n",
    "X_train_feat_scaled = scaler.fit_transform(X_train_feat)\n",
    "X_test_feat_scaled = scaler.transform(X_test_feat)\n",
    "\n",
    "rf_model = RandomForestClassifier(n_estimators=100, random_state=42)\n",
    "rf_model.fit(X_train_feat_scaled, y_train_genre)\n",
    "\n",
    "y_pred_genre = rf_model.predict(X_test_feat_scaled)\n",
    "print(classification_report(y_test_genre, y_pred_genre))\n",
    "\n",
    "param_grid_rf = {\n",
    "    'n_estimators': [100, 200, 300],\n",
    "    'max_depth': [10, 20, 30],\n",
    "    'min_samples_split': [2, 5, 10]\n",
    "}\n",
    "\n",
    "grid_search_rf = GridSearchCV(RandomForestClassifier(random_state=42), param_grid_rf, cv=5, scoring='accuracy')\n",
    "grid_search_rf.fit(X_train_feat_scaled, y_train_genre)\n",
    "\n",
    "print(f\"Best parameters: {grid_search_rf.best_params_}\")\n",
    "best_rf_model = grid_search_rf.best_estimator_\n",
    "\n",
    "\n",
    "y_pred_genre_best = best_rf_model.predict(X_test_feat_scaled)\n",
    "print(classification_report(y_test_genre, y_pred_genre_best))"
   ]
  },
  {
   "cell_type": "markdown",
   "id": "00ca5e77-16dc-4c62-a30f-30dc9c3ffb5e",
   "metadata": {},
   "source": [
    "**Baseline Split of data to compare accuracy score**"
   ]
  },
  {
   "cell_type": "code",
   "execution_count": 16,
   "id": "ae8274bd-6f6a-470a-aabe-b35003e4d1e3",
   "metadata": {},
   "outputs": [
    {
     "data": {
      "text/plain": [
       "decade\n",
       "2010    0.198470\n",
       "2000    0.168511\n",
       "1980    0.164775\n",
       "1990    0.157091\n",
       "1970    0.139257\n",
       "1960    0.120154\n",
       "1950    0.051741\n",
       "Name: proportion, dtype: float64"
      ]
     },
     "execution_count": 16,
     "metadata": {},
     "output_type": "execute_result"
    }
   ],
   "source": [
    "metadata['decade'].value_counts(normalize = True)"
   ]
  },
  {
   "cell_type": "markdown",
   "id": "5b003e46-62f0-4ebf-bf47-a21aa2cfda19",
   "metadata": {},
   "source": [
    "**Evaluating Model Performance - by genre**\n",
    "\n",
    "**Blues** - The F1-score slightly decreased after tuning, indicating a marginal drop in balanced performance between precision and recall. Precision increased slightly, but recall decreased, meaning the model was better at identifying true blues songs but missed more blues songs overall.\n",
    "\n",
    "**Country** - Both recall and F1-score slightly decreased after tuning, but precision remained the same. The model was better at identifying true country songs before tuning.\n",
    "\n",
    "**Hip Hop** - Precision increased slightly after tuning, but recall decreased. The F1-score remained the same. The model became more precise but less capable of identifying all true hip hop songs.\n",
    "\n",
    "**Jazz** - The F1-score improved after tuning, indicating better balanced performance between precision and recall. The model improved in identifying true jazz songs.\n",
    "\n",
    "**Pop** - The F1-score and recall both improved after tuning, showing that the model became better at identifying true pop songs and predicting pop songs correctly.\n",
    "\n",
    "**Reggae** - The F1-score improved, indicating better balanced performance. Both precision and recall increased, showing overall improvement in identifying and predicting reggae songs.\n",
    "\n",
    "**Rock** - The F1-score improved slightly after tuning, indicating a minor improvement in balanced performance. Precision remained the same, but recall slightly increased.\n",
    "\n",
    "**Overall Model Performance**\n",
    "\n",
    "Accuracy remained the same at 0.42 before and after tuning however macro average precision and F1-score slightly improved, indicating that the model's performance across all genres improved in terms of balanced performance between precision and recall. The weighted average metrics remained the same, indicating no significant change in overall performance for the majority class.\n",
    "Conclusion\n",
    "The hyperparameter tuning resulted in slight improvements for some genres, particularly pop and reggae, while others like blues and country saw slight decreases in performance. The overall accuracy remained unchanged, suggesting that while tuning helped specific classes, it did not significantly impact the overall model performance. The balanced performance (F1-score) across all genres saw a marginal improvement, indicating the model became slightly better at handling the imbalanced class distribution."
   ]
  },
  {
   "cell_type": "code",
   "execution_count": null,
   "id": "b1d4c974-05a9-445d-89f0-8f8b7e9f54a8",
   "metadata": {},
   "outputs": [],
   "source": []
  }
 ],
 "metadata": {
  "kernelspec": {
   "display_name": "Python 3 (ipykernel)",
   "language": "python",
   "name": "python3"
  },
  "language_info": {
   "codemirror_mode": {
    "name": "ipython",
    "version": 3
   },
   "file_extension": ".py",
   "mimetype": "text/x-python",
   "name": "python",
   "nbconvert_exporter": "python",
   "pygments_lexer": "ipython3",
   "version": "3.12.0"
  }
 },
 "nbformat": 4,
 "nbformat_minor": 5
}
