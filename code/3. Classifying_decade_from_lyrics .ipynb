{
 "cells": [
  {
   "cell_type": "markdown",
   "id": "5f05bef1-0d32-48fe-838d-1918976dd424",
   "metadata": {},
   "source": [
    "# Imports "
   ]
  },
  {
   "cell_type": "code",
   "execution_count": 10,
   "id": "35a909e6-63c3-47a1-ba82-79bc6705098b",
   "metadata": {},
   "outputs": [],
   "source": [
    "import pandas as pd \n",
    "import numpy as np\n",
    "import matplotlib.pyplot as plt\n",
    "import seaborn as sns\n",
    "\n",
    "from sklearn.model_selection import train_test_split\n",
    "from sklearn.feature_extraction.text import TfidfVectorizer\n",
    "from sklearn.linear_model import LogisticRegression\n",
    "from sklearn.metrics import classification_report\n",
    "\n",
    "from sklearn.model_selection import GridSearchCV"
   ]
  },
  {
   "cell_type": "code",
   "execution_count": 11,
   "id": "d91179cc-f24c-4642-b4c6-53c80e37df77",
   "metadata": {},
   "outputs": [],
   "source": [
    "metadata = pd.read_csv('../data/processed_metadata.csv')"
   ]
  },
  {
   "cell_type": "markdown",
   "id": "bd195d1f-2263-416e-a0c6-448c956eacab",
   "metadata": {},
   "source": [
    "# Modelling and Model Evaluations - classifying decade from lyrics"
   ]
  },
  {
   "cell_type": "code",
   "execution_count": 12,
   "id": "9b71a7eb-947e-468b-8ad7-65ad3948eed3",
   "metadata": {},
   "outputs": [
    {
     "name": "stdout",
     "output_type": "stream",
     "text": [
      "              precision    recall  f1-score   support\n",
      "\n",
      "        1950       0.39      0.14      0.20       294\n",
      "        1960       0.32      0.34      0.33       682\n",
      "        1970       0.25      0.23      0.24       790\n",
      "        1980       0.27      0.28      0.27       935\n",
      "        1990       0.22      0.18      0.20       892\n",
      "        2000       0.23      0.19      0.21       956\n",
      "        2010       0.38      0.54      0.45      1126\n",
      "\n",
      "    accuracy                           0.29      5675\n",
      "   macro avg       0.29      0.27      0.27      5675\n",
      "weighted avg       0.29      0.29      0.28      5675\n",
      "\n"
     ]
    }
   ],
   "source": [
    "X_train, X_test, y_train, y_test = train_test_split(metadata['processed_lyrics'], metadata['decade'], test_size=0.2, random_state=42, stratify = metadata['decade'])\n",
    "\n",
    "tfidf = TfidfVectorizer(max_features=10000)\n",
    "X_train_tfidf = tfidf.fit_transform(X_train)\n",
    "X_test_tfidf = tfidf.transform(X_test)\n",
    "\n",
    "decade_model = LogisticRegression(max_iter=1000)\n",
    "decade_model.fit(X_train_tfidf, y_train)\n",
    "\n",
    "y_pred = decade_model.predict(X_test_tfidf)\n",
    "print(classification_report(y_test, y_pred))"
   ]
  },
  {
   "cell_type": "markdown",
   "id": "191b76d0-9f71-428e-8cf5-b81b79aa2df3",
   "metadata": {},
   "source": [
    "Gridsearching over hyperparameters to optimise model performance. "
   ]
  },
  {
   "cell_type": "code",
   "execution_count": 9,
   "id": "fbcb28f7-379a-4124-8d72-417a974fb332",
   "metadata": {},
   "outputs": [
    {
     "name": "stdout",
     "output_type": "stream",
     "text": [
      "Best parameters: {'C': 1, 'solver': 'lbfgs'}\n",
      "              precision    recall  f1-score   support\n",
      "\n",
      "        1950       0.34      0.14      0.20       282\n",
      "        1960       0.31      0.34      0.32       646\n",
      "        1970       0.27      0.25      0.26       804\n",
      "        1980       0.27      0.29      0.28       952\n",
      "        1990       0.22      0.16      0.19       917\n",
      "        2000       0.25      0.22      0.23       946\n",
      "        2010       0.38      0.53      0.44      1128\n",
      "\n",
      "    accuracy                           0.30      5675\n",
      "   macro avg       0.29      0.28      0.27      5675\n",
      "weighted avg       0.29      0.30      0.29      5675\n",
      "\n"
     ]
    }
   ],
   "source": [
    "param_grid = {\n",
    "    'C': [0.1, 1, 10, 100],\n",
    "    'solver': ['newton-cg', 'lbfgs', 'liblinear']\n",
    "}\n",
    "\n",
    "grid_search = GridSearchCV(LogisticRegression(max_iter=1000), param_grid, cv=5, scoring='accuracy')\n",
    "grid_search.fit(X_train_tfidf, y_train)\n",
    "\n",
    "print(f\"Best parameters: {grid_search.best_params_}\")\n",
    "best_decade_model = grid_search.best_estimator_\n",
    "\n",
    "y_pred_best = best_decade_model.predict(X_test_tfidf)\n",
    "print(classification_report(y_test, y_pred_best))"
   ]
  },
  {
   "cell_type": "markdown",
   "id": "dd22c2dc-dfca-491b-9ba2-d24af6c1d88d",
   "metadata": {},
   "source": [
    "**Baseline Split of data to compare accuracy score**"
   ]
  },
  {
   "cell_type": "code",
   "execution_count": 13,
   "id": "c90026f8-8baf-4eb1-a074-274ba2842eb4",
   "metadata": {},
   "outputs": [
    {
     "data": {
      "text/plain": [
       "genre\n",
       "pop        0.248202\n",
       "country    0.191915\n",
       "blues      0.162273\n",
       "rock       0.142182\n",
       "jazz       0.135521\n",
       "reggae     0.088045\n",
       "hip hop    0.031862\n",
       "Name: proportion, dtype: float64"
      ]
     },
     "execution_count": 13,
     "metadata": {},
     "output_type": "execute_result"
    }
   ],
   "source": [
    "metadata['genre'].value_counts(normalize = True)"
   ]
  },
  {
   "cell_type": "markdown",
   "id": "0b46c6d8-ee02-46ec-b387-5a832531eace",
   "metadata": {},
   "source": [
    "**Key Points of Interpretation**\n",
    "Imbalanced Classes and F1-Score since F1-Score is the harmonic mean of precision and recall, making it a good measure for evaluating models on imbalanced datasets. It balances the trade-off between precision and recall.\n",
    "\n",
    "**Improvements Post-Tuning:**\n",
    "There were slight improvements in accuracy and the weighted average F1-Score after hyperparameter tuning, however the macro average F1-Score remains unchanged (at 0.27 for both), indicating that the improvements are not uniform across all classes.\n",
    "\n",
    "**Evaluating the model's performance By Decade**\n",
    "\n",
    "**1950:** Both before and after tuning, the F1-Score for this class remains low, indicating difficulty in correctly classifying songs from the 1950s.\n",
    "\n",
    "**1960 & 1970:** Slight improvements in F1-Scores after tuning, showing better classification performance for these decades.\n",
    "\n",
    "**1980:** Minor improvement in F1-Score, indicating slight betterment in classification.\n",
    "\n",
    "**1990:** The F1-Score remains low, suggesting difficulty in classifying this decade accurately.\n",
    "\n",
    "**2000:** Minor improvement post-tuning, but still a low F1-Score.\n",
    "\n",
    "**2010:** This decade shows the highest F1-Score, indicating the best classification performance, likely due to more distinctive lyrical features and potentially larger representation in the dataset.\n",
    "\n",
    "**Overall Observations**\n",
    "Overall Accuracy: Increased slightly from 0.29 to 0.30 after hyperparameter tuning, which is not a significant improvement.\n",
    "Macro vs. Weighted Avg: The macro average remains the same, but the weighted average F1-Score shows a slight improvement. This suggests that while the model's performance improved for the most frequent classes, the less frequent classes still pose a challenge.\n",
    "Class Imbalance: The dataset's class imbalance significantly impacts the model's performance. Classes with more data points (like 2010) perform better compared to those with fewer data points (like 1950).\n",
    "\n",
    "**Next Steps for improvement**\n",
    "Further Feature Engineering: Additional features could be engineered to capture more distinctive attributes of each decade.\n",
    "Advanced Models: Experimenting with more sophisticated models such as Gradient Boosting, Neural Networks, or ensemble methods.\n",
    "Resampling Techniques: Techniques such as SMOTE (Synthetic Minority Over-sampling Technique) could be applied to balance the dataset and improve performance on underrepresented classes."
   ]
  },
  {
   "cell_type": "code",
   "execution_count": null,
   "id": "0f494642-1ccb-4022-8152-20f3fcdcbb2f",
   "metadata": {},
   "outputs": [],
   "source": []
  }
 ],
 "metadata": {
  "kernelspec": {
   "display_name": "Python 3 (ipykernel)",
   "language": "python",
   "name": "python3"
  },
  "language_info": {
   "codemirror_mode": {
    "name": "ipython",
    "version": 3
   },
   "file_extension": ".py",
   "mimetype": "text/x-python",
   "name": "python",
   "nbconvert_exporter": "python",
   "pygments_lexer": "ipython3",
   "version": "3.12.0"
  }
 },
 "nbformat": 4,
 "nbformat_minor": 5
}
